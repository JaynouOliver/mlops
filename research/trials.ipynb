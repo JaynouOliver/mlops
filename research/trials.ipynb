{
 "cells": [
  {
   "cell_type": "code",
   "execution_count": 1,
   "metadata": {},
   "outputs": [],
   "source": [
    "d = {\"key\":\"val\", \"key1\":\"val1\"}\n"
   ]
  },
  {
   "cell_type": "code",
   "execution_count": 2,
   "metadata": {},
   "outputs": [
    {
     "data": {
      "text/plain": [
       "'val1'"
      ]
     },
     "execution_count": 2,
     "metadata": {},
     "output_type": "execute_result"
    }
   ],
   "source": [
    "d[\"key1\"]"
   ]
  },
  {
   "cell_type": "code",
   "execution_count": 3,
   "metadata": {},
   "outputs": [
    {
     "name": "stdout",
     "output_type": "stream",
     "text": [
      "Collecting python-box\n",
      "  Obtaining dependency information for python-box from https://files.pythonhosted.org/packages/a8/0c/5c4a9aa6216265059fa3b2551274bb0cf21089cab5057c3f43be994ff75c/python_box-7.1.1-cp311-cp311-win_amd64.whl.metadata\n",
      "  Downloading python_box-7.1.1-cp311-cp311-win_amd64.whl.metadata (8.0 kB)\n",
      "Downloading python_box-7.1.1-cp311-cp311-win_amd64.whl (1.2 MB)\n",
      "   ---------------------------------------- 0.0/1.2 MB ? eta -:--:--\n",
      "   ---------------------------------------- 0.0/1.2 MB ? eta -:--:--\n",
      "   - -------------------------------------- 0.0/1.2 MB 1.3 MB/s eta 0:00:01\n",
      "   -- ------------------------------------- 0.1/1.2 MB 812.7 kB/s eta 0:00:02\n",
      "   ---- ----------------------------------- 0.1/1.2 MB 1.2 MB/s eta 0:00:01\n",
      "   ---- ----------------------------------- 0.1/1.2 MB 944.1 kB/s eta 0:00:02\n",
      "   ------ --------------------------------- 0.2/1.2 MB 1.1 MB/s eta 0:00:01\n",
      "   -------- ------------------------------- 0.2/1.2 MB 1.1 MB/s eta 0:00:01\n",
      "   --------- ------------------------------ 0.3/1.2 MB 1.0 MB/s eta 0:00:01\n",
      "   --------- ------------------------------ 0.3/1.2 MB 916.0 kB/s eta 0:00:01\n",
      "   ------------ --------------------------- 0.4/1.2 MB 1.0 MB/s eta 0:00:01\n",
      "   ------------- -------------------------- 0.4/1.2 MB 995.2 kB/s eta 0:00:01\n",
      "   -------------- ------------------------- 0.4/1.2 MB 994.9 kB/s eta 0:00:01\n",
      "   --------------- ------------------------ 0.5/1.2 MB 960.7 kB/s eta 0:00:01\n",
      "   ---------------- ----------------------- 0.5/1.2 MB 932.7 kB/s eta 0:00:01\n",
      "   ----------------- ---------------------- 0.5/1.2 MB 954.7 kB/s eta 0:00:01\n",
      "   ------------------ --------------------- 0.6/1.2 MB 930.9 kB/s eta 0:00:01\n",
      "   ------------------- -------------------- 0.6/1.2 MB 933.9 kB/s eta 0:00:01\n",
      "   --------------------- ------------------ 0.6/1.2 MB 914.3 kB/s eta 0:00:01\n",
      "   ---------------------- ----------------- 0.7/1.2 MB 925.7 kB/s eta 0:00:01\n",
      "   ----------------------- ---------------- 0.7/1.2 MB 928.4 kB/s eta 0:00:01\n",
      "   ------------------------ --------------- 0.7/1.2 MB 912.2 kB/s eta 0:00:01\n",
      "   -------------------------- ------------- 0.8/1.2 MB 927.5 kB/s eta 0:00:01\n",
      "   --------------------------- ------------ 0.8/1.2 MB 924.5 kB/s eta 0:00:01\n",
      "   ---------------------------- ----------- 0.9/1.2 MB 938.1 kB/s eta 0:00:01\n",
      "   ---------------------------- ----------- 0.9/1.2 MB 938.1 kB/s eta 0:00:01\n",
      "   ---------------------------- ----------- 0.9/1.2 MB 938.1 kB/s eta 0:00:01\n",
      "   ----------------------------- ---------- 0.9/1.2 MB 866.8 kB/s eta 0:00:01\n",
      "   ------------------------------ --------- 0.9/1.2 MB 857.3 kB/s eta 0:00:01\n",
      "   -------------------------------- ------- 1.0/1.2 MB 867.2 kB/s eta 0:00:01\n",
      "   --------------------------------- ------ 1.0/1.2 MB 870.5 kB/s eta 0:00:01\n",
      "   ---------------------------------- ----- 1.0/1.2 MB 862.0 kB/s eta 0:00:01\n",
      "   ------------------------------------ --- 1.1/1.2 MB 870.6 kB/s eta 0:00:01\n",
      "   ------------------------------------- -- 1.1/1.2 MB 884.7 kB/s eta 0:00:01\n",
      "   ---------------------------------------  1.2/1.2 MB 892.2 kB/s eta 0:00:01\n",
      "   ---------------------------------------- 1.2/1.2 MB 887.8 kB/s eta 0:00:00\n",
      "Installing collected packages: python-box\n",
      "Successfully installed python-box-7.1.1\n",
      "Note: you may need to restart the kernel to use updated packages.\n"
     ]
    }
   ],
   "source": [
    "%pip install python-box"
   ]
  },
  {
   "cell_type": "code",
   "execution_count": 4,
   "metadata": {},
   "outputs": [],
   "source": [
    "from box import ConfigBox\n"
   ]
  },
  {
   "cell_type": "code",
   "execution_count": 5,
   "metadata": {},
   "outputs": [],
   "source": [
    "d2 = ConfigBox({\"key\":\"val\", \"key1\":\"val1\"})"
   ]
  },
  {
   "cell_type": "code",
   "execution_count": 6,
   "metadata": {},
   "outputs": [
    {
     "data": {
      "text/plain": [
       "'val1'"
      ]
     },
     "execution_count": 6,
     "metadata": {},
     "output_type": "execute_result"
    }
   ],
   "source": [
    "d2.key1"
   ]
  },
  {
   "cell_type": "code",
   "execution_count": 17,
   "metadata": {},
   "outputs": [],
   "source": [
    "def multiply(x:int, y=int) -> int:\n",
    "    return x*y\n",
    "\n"
   ]
  },
  {
   "cell_type": "code",
   "execution_count": null,
   "metadata": {},
   "outputs": [],
   "source": []
  },
  {
   "cell_type": "code",
   "execution_count": 10,
   "metadata": {},
   "outputs": [
    {
     "name": "stdout",
     "output_type": "stream",
     "text": [
      "Collecting ensure\n",
      "  Obtaining dependency information for ensure from https://files.pythonhosted.org/packages/53/34/076953d6007a5eeaa2fdd2f78c23bdf4ba1926f3cd334d59af34f354ecc6/ensure-1.0.4-py3-none-any.whl.metadata\n",
      "  Downloading ensure-1.0.4-py3-none-any.whl.metadata (10 kB)\n",
      "Requirement already satisfied: six>=1.11.0 in c:\\users\\subhr\\anaconda3\\lib\\site-packages (from ensure) (1.16.0)\n",
      "Downloading ensure-1.0.4-py3-none-any.whl (15 kB)\n",
      "Installing collected packages: ensure\n",
      "Successfully installed ensure-1.0.4\n",
      "Note: you may need to restart the kernel to use updated packages.\n"
     ]
    }
   ],
   "source": [
    "%pip install ensure"
   ]
  },
  {
   "cell_type": "code",
   "execution_count": 11,
   "metadata": {},
   "outputs": [],
   "source": [
    "import ensure\n",
    "from ensure import ensure_annotations"
   ]
  },
  {
   "cell_type": "code",
   "execution_count": 14,
   "metadata": {},
   "outputs": [],
   "source": [
    "@ensure_annotations\n",
    "def multiply(x:int, y=int) -> int:\n",
    "    return x*y"
   ]
  },
  {
   "cell_type": "code",
   "execution_count": 15,
   "metadata": {},
   "outputs": [
    {
     "ename": "EnsureError",
     "evalue": "Return value of <function multiply at 0x000001788B4253A0> of type <class 'str'> does not match annotation type <class 'int'>",
     "output_type": "error",
     "traceback": [
      "\u001b[1;31m---------------------------------------------------------------------------\u001b[0m",
      "\u001b[1;31mEnsureError\u001b[0m                               Traceback (most recent call last)",
      "Cell \u001b[1;32mIn[15], line 1\u001b[0m\n\u001b[1;32m----> 1\u001b[0m multiply(x\u001b[38;5;241m=\u001b[39m \u001b[38;5;241m2\u001b[39m, y \u001b[38;5;241m=\u001b[39m \u001b[38;5;124m\"\u001b[39m\u001b[38;5;124m5\u001b[39m\u001b[38;5;124m\"\u001b[39m)\n",
      "File \u001b[1;32mc:\\Users\\Subhr\\anaconda3\\Lib\\site-packages\\ensure\\main.py:875\u001b[0m, in \u001b[0;36mWrappedFunctionReturn.__call__\u001b[1;34m(self, *args, **kwargs)\u001b[0m\n\u001b[0;32m    873\u001b[0m \u001b[38;5;28;01mif\u001b[39;00m \u001b[38;5;129;01mnot\u001b[39;00m \u001b[38;5;28misinstance\u001b[39m(return_val, \u001b[38;5;28mself\u001b[39m\u001b[38;5;241m.\u001b[39mreturn_templ):\n\u001b[0;32m    874\u001b[0m     msg \u001b[38;5;241m=\u001b[39m \u001b[38;5;124m\"\u001b[39m\u001b[38;5;124mReturn value of \u001b[39m\u001b[38;5;132;01m{f}\u001b[39;00m\u001b[38;5;124m of type \u001b[39m\u001b[38;5;132;01m{valt}\u001b[39;00m\u001b[38;5;124m \u001b[39m\u001b[38;5;124m\"\u001b[39m \u001b[38;5;124m\"\u001b[39m\u001b[38;5;124mdoes not match annotation type \u001b[39m\u001b[38;5;132;01m{t}\u001b[39;00m\u001b[38;5;124m\"\u001b[39m\n\u001b[1;32m--> 875\u001b[0m     \u001b[38;5;28;01mraise\u001b[39;00m EnsureError(msg\u001b[38;5;241m.\u001b[39mformat(f\u001b[38;5;241m=\u001b[39m\u001b[38;5;28mself\u001b[39m\u001b[38;5;241m.\u001b[39mf, t\u001b[38;5;241m=\u001b[39m\u001b[38;5;28mself\u001b[39m\u001b[38;5;241m.\u001b[39mreturn_templ, valt\u001b[38;5;241m=\u001b[39m\u001b[38;5;28mtype\u001b[39m(return_val)))\n\u001b[0;32m    876\u001b[0m \u001b[38;5;28;01mreturn\u001b[39;00m return_val\n",
      "\u001b[1;31mEnsureError\u001b[0m: Return value of <function multiply at 0x000001788B4253A0> of type <class 'str'> does not match annotation type <class 'int'>"
     ]
    }
   ],
   "source": [
    "multiply(x= 2, y = \"5\")"
   ]
  },
  {
   "cell_type": "code",
   "execution_count": null,
   "metadata": {},
   "outputs": [],
   "source": []
  }
 ],
 "metadata": {
  "kernelspec": {
   "display_name": "base",
   "language": "python",
   "name": "python3"
  },
  "language_info": {
   "codemirror_mode": {
    "name": "ipython",
    "version": 3
   },
   "file_extension": ".py",
   "mimetype": "text/x-python",
   "name": "python",
   "nbconvert_exporter": "python",
   "pygments_lexer": "ipython3",
   "version": "3.11.5"
  }
 },
 "nbformat": 4,
 "nbformat_minor": 2
}
